{
 "cells": [
  {
   "cell_type": "markdown",
   "metadata": {},
   "source": [
    "# 🎥 Face Movie Generator\n",
    "\n",
    "Cette application recrée l'effet \"Face Movie\" de Picasa directement dans Google Colab.\n",
    "\n",
    "## ✨ Fonctionnalités :\n",
    "- Détection automatique des visages\n",
    "- Recadrage centré\n",
    "- Zoom et fondu entre les images\n",
    "- Ajout optionnel de musique\n",
    "- Téléchargement facile de la vidéo\n",
    "\n",
    "💡 **Utilisation** :\n",
    "1. Exécute toutes les cellules\n",
    "2. Upload tes images et musique\n",
    "3. Télécharge ta vidéo générée"
   ]
  },
  {
   "cell_type": "code",
   "execution_count": null,
   "metadata": {},
   "outputs": [],
   "source": [
    "# 🛠️ Installer les bibliothèques nécessaires\n",
    "!pip install gradio opencv-python moviepy numpy --quiet"
   ]
  },
  {
   "cell_type": "code",
   "execution_count": null,
   "metadata": {},
   "outputs": [],
   "source": [
    "import os\n",
    "import cv2\n",
    "import numpy as np\n",
    "import gradio as gr\n",
    "from moviepy.editor import ImageClip, concatenate_videoclips, AudioFileClip\n",
    "from tempfile import TemporaryDirectory\n",
    "\n",
    "# === Détection des visages ===\n",
    "face_cascade = cv2.CascadeClassifier(cv2.data.haarcascades + 'haarcascade_frontalface_default.xml')\n",
    "\n",
    "def detect_face(image, size=(640, 640)):\n",
    "    img = cv2.cvtColor(image, cv2.COLOR_RGB2BGR)\n",
    "    gray = cv2.cvtColor(img, cv2.COLOR_BGR2GRAY)\n",
    "    faces = face_cascade.detectMultiScale(gray, 1.1, 5)\n",
    "    if len(faces) == 0:\n",
    "        return None\n",
    "    x, y, w, h = sorted(faces, key=lambda f: f[2]*f[3], reverse=True)[0]\n",
    "    margin = 0.4\n",
    "    x1 = max(int(x - w*margin), 0)\n",
    "    y1 = max(int(y - h*margin), 0)\n",
    "    x2 = min(int(x + w + w*margin), img.shape[1])\n",
    "    y2 = min(int(y + h + h*margin), img.shape[0])\n",
    "    face_img = img[y1:y2, x1:x2]\n",
    "    face_img = cv2.resize(face_img, size)\n",
    "    return cv2.cvtColor(face_img, cv2.COLOR_BGR2RGB)\n",
    "\n",
    "def create_face_movie(images, music=None):\n",
    "    with TemporaryDirectory() as tempdir:\n",
    "        clips = []\n",
    "        for img in images:\n",
    "            face = detect_face(img)\n",
    "            if face is not None:\n",
    "                clip = ImageClip(face).set_duration(2).resize(lambda t: 1 + 0.03 * t).crossfadein(1)\n",
    "                clips.append(clip)\n",
    "        if not clips:\n",
    "            return \"Aucun visage trouvé\", None\n",
    "        video = concatenate_videoclips(clips, method=\"compose\")\n",
    "        if music:\n",
    "            video = video.set_audio(AudioFileClip(music.name).set_duration(video.duration))\n",
    "        path = os.path.join(tempdir, \"face_movie.mp4\")\n",
    "        video.write_videofile(path, fps=24, codec=\"libx264\", audio_codec=\"aac\")\n",
    "        return \"Vidéo prête 🎉\", path\n",
    "\n",
    "# Interface Gradio\n",
    "iface = gr.Interface(\n",
    "    fn=create_face_movie,\n",
    "    inputs=[\n",
    "        gr.File(label=\"Images\", file_types=[\"image\"], file_count=\"multiple\"),\n",
    "        gr.File(label=\"Musique (optionnel)\", file_types=[\"audio\"])\n",
    "    ],\n",
    "    outputs=[\n",
    "        gr.Text(label=\"Statut\"),\n",
    "        gr.File(label=\"Télécharger la vidéo\")\n",
    "    ],\n",
    "    title=\"Face Movie (Picasa-style)\",\n",
    "    description=\"Crée un diaporama vidéo centré sur les visages — compatible iPad\"\n",
    ")\n",
    "\n",
    "iface.launch(share=True)"
   ]
  }
 ],
 "metadata": {
  "colab": {
   "provenance": []
  },
  "kernelspec": {
   "display_name": "Python 3",
   "language": "python",
   "name": "python3"
  },
  "language_info": {
   "name": "python"
  }
 },
 "nbformat": 4,
 "nbformat_minor": 0
}
